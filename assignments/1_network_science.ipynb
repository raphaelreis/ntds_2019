{
 "cells": [
  {
   "cell_type": "markdown",
   "metadata": {},
   "source": [
    "# [NTDS'19] assignment 1: network science\n",
    "[ntds'19]: https://github.com/mdeff/ntds_2019\n",
    "\n",
    "[Eda Bayram](https://lts4.epfl.ch/bayram), [EPFL LTS4](https://lts4.epfl.ch) and\n",
    "[Nikolaos Karalias](https://people.epfl.ch/nikolaos.karalias), [EPFL LTS2](https://lts2.epfl.ch)."
   ]
  },
  {
   "cell_type": "markdown",
   "metadata": {},
   "source": [
    "## Students\n",
    "\n",
    "* Team: `18`\n",
    "* Students: `<Raphaël Reis Nunes`> (for the indivudual submission) or `<>` (for the team submission)"
   ]
  },
  {
   "cell_type": "markdown",
   "metadata": {},
   "source": [
    "## Rules\n",
    "\n",
    "Grading:\n",
    "* The first deadline is for individual submissions. The second deadline is for the team submission.\n",
    "* All team members will receive the same grade based on the team solution submitted on the second deadline.\n",
    "* As a fallback, a team can ask for individual grading. In that case, solutions submitted on the first deadline are graded.\n",
    "* Collaboration between team members is encouraged. No collaboration between teams is allowed.\n",
    "\n",
    "Submission:\n",
    "* Textual answers shall be short. Typically one to two sentences.\n",
    "* Code has to be clean.\n",
    "* You cannot import any other library than we imported.\n",
    "  Note that Networkx is imported in the second section and cannot be used in the first.\n",
    "* When submitting, the notebook is executed and the results are stored. I.e., if you open the notebook again it should show numerical results and plots. We won't be able to execute your notebooks.\n",
    "* The notebook is re-executed from a blank state before submission. That is to be sure it is reproducible. You can click \"Kernel\" then \"Restart Kernel and Run All Cells\" in Jupyter."
   ]
  },
  {
   "cell_type": "markdown",
   "metadata": {},
   "source": [
    "## Objective\n",
    "\n",
    "The purpose of this milestone is to explore a given dataset, represent it by network by constructing different graphs. In the first section, you will analyze the network properties. In the second section, you will explore various network models and find out the network model fitting the ones you construct from the dataset."
   ]
  },
  {
   "cell_type": "markdown",
   "metadata": {},
   "source": [
    "## Cora Dataset\n",
    "\n",
    "The [Cora dataset](https://linqs.soe.ucsc.edu/node/236) consists of scientific publications classified into one of seven research fields. \n",
    "\n",
    "* **Citation graph:** the citation network can be constructed from the connections given in the `cora.cites` file.\n",
    "* **Feature graph:** each publication in the dataset is described by a 0/1-valued word vector indicating the absence/presence of the corresponding word from the dictionary and its research field, given in the `cora.content` file. The dictionary consists of 1433 unique words. A feature graph can be constructed using the Euclidean distance between the feature vector of the publications.\n",
    "\n",
    "The [`README`](data/cora/README) provides details about the content of [`cora.cites`](data/cora/cora.cites) and [`cora.content`](data/cora/cora.content)."
   ]
  },
  {
   "cell_type": "markdown",
   "metadata": {},
   "source": [
    "## Section 1: Network Properties"
   ]
  },
  {
   "cell_type": "code",
   "execution_count": 1,
   "metadata": {},
   "outputs": [],
   "source": [
    "import numpy as np\n",
    "from numpy.linalg import matrix_power\n",
    "import pandas as pd\n",
    "from matplotlib import pyplot as plt\n",
    "\n",
    "%matplotlib inline"
   ]
  },
  {
   "cell_type": "markdown",
   "metadata": {},
   "source": [
    "### Question 1: Construct a Citation Graph and a Feature Graph"
   ]
  },
  {
   "cell_type": "markdown",
   "metadata": {},
   "source": [
    "Read the `cora.content` file into a Pandas DataFrame by setting a header for the column names. Check the `README` file."
   ]
  },
  {
   "cell_type": "markdown",
   "metadata": {},
   "source": [
    "#### Feature graph adjacency matrix"
   ]
  },
  {
   "cell_type": "code",
   "execution_count": 2,
   "metadata": {},
   "outputs": [
    {
     "data": {
      "text/html": [
       "<div>\n",
       "<style scoped>\n",
       "    .dataframe tbody tr th:only-of-type {\n",
       "        vertical-align: middle;\n",
       "    }\n",
       "\n",
       "    .dataframe tbody tr th {\n",
       "        vertical-align: top;\n",
       "    }\n",
       "\n",
       "    .dataframe thead th {\n",
       "        text-align: right;\n",
       "    }\n",
       "</style>\n",
       "<table border=\"1\" class=\"dataframe\">\n",
       "  <thead>\n",
       "    <tr style=\"text-align: right;\">\n",
       "      <th></th>\n",
       "      <th>paper_id</th>\n",
       "      <th>1</th>\n",
       "      <th>2</th>\n",
       "      <th>3</th>\n",
       "      <th>4</th>\n",
       "      <th>5</th>\n",
       "      <th>6</th>\n",
       "      <th>7</th>\n",
       "      <th>8</th>\n",
       "      <th>9</th>\n",
       "      <th>...</th>\n",
       "      <th>1425</th>\n",
       "      <th>1426</th>\n",
       "      <th>1427</th>\n",
       "      <th>1428</th>\n",
       "      <th>1429</th>\n",
       "      <th>1430</th>\n",
       "      <th>1431</th>\n",
       "      <th>1432</th>\n",
       "      <th>1433</th>\n",
       "      <th>class_label</th>\n",
       "    </tr>\n",
       "  </thead>\n",
       "  <tbody>\n",
       "    <tr>\n",
       "      <td>0</td>\n",
       "      <td>31336</td>\n",
       "      <td>0</td>\n",
       "      <td>0</td>\n",
       "      <td>0</td>\n",
       "      <td>0</td>\n",
       "      <td>0</td>\n",
       "      <td>0</td>\n",
       "      <td>0</td>\n",
       "      <td>0</td>\n",
       "      <td>0</td>\n",
       "      <td>...</td>\n",
       "      <td>0</td>\n",
       "      <td>0</td>\n",
       "      <td>1</td>\n",
       "      <td>0</td>\n",
       "      <td>0</td>\n",
       "      <td>0</td>\n",
       "      <td>0</td>\n",
       "      <td>0</td>\n",
       "      <td>0</td>\n",
       "      <td>Neural_Networks</td>\n",
       "    </tr>\n",
       "    <tr>\n",
       "      <td>1</td>\n",
       "      <td>1061127</td>\n",
       "      <td>0</td>\n",
       "      <td>0</td>\n",
       "      <td>0</td>\n",
       "      <td>0</td>\n",
       "      <td>0</td>\n",
       "      <td>0</td>\n",
       "      <td>0</td>\n",
       "      <td>0</td>\n",
       "      <td>0</td>\n",
       "      <td>...</td>\n",
       "      <td>0</td>\n",
       "      <td>1</td>\n",
       "      <td>0</td>\n",
       "      <td>0</td>\n",
       "      <td>0</td>\n",
       "      <td>0</td>\n",
       "      <td>0</td>\n",
       "      <td>0</td>\n",
       "      <td>0</td>\n",
       "      <td>Rule_Learning</td>\n",
       "    </tr>\n",
       "    <tr>\n",
       "      <td>2</td>\n",
       "      <td>1106406</td>\n",
       "      <td>0</td>\n",
       "      <td>0</td>\n",
       "      <td>0</td>\n",
       "      <td>0</td>\n",
       "      <td>0</td>\n",
       "      <td>0</td>\n",
       "      <td>0</td>\n",
       "      <td>0</td>\n",
       "      <td>0</td>\n",
       "      <td>...</td>\n",
       "      <td>0</td>\n",
       "      <td>0</td>\n",
       "      <td>0</td>\n",
       "      <td>0</td>\n",
       "      <td>0</td>\n",
       "      <td>0</td>\n",
       "      <td>0</td>\n",
       "      <td>0</td>\n",
       "      <td>0</td>\n",
       "      <td>Reinforcement_Learning</td>\n",
       "    </tr>\n",
       "    <tr>\n",
       "      <td>3</td>\n",
       "      <td>13195</td>\n",
       "      <td>0</td>\n",
       "      <td>0</td>\n",
       "      <td>0</td>\n",
       "      <td>0</td>\n",
       "      <td>0</td>\n",
       "      <td>0</td>\n",
       "      <td>0</td>\n",
       "      <td>0</td>\n",
       "      <td>0</td>\n",
       "      <td>...</td>\n",
       "      <td>0</td>\n",
       "      <td>0</td>\n",
       "      <td>0</td>\n",
       "      <td>0</td>\n",
       "      <td>0</td>\n",
       "      <td>0</td>\n",
       "      <td>0</td>\n",
       "      <td>0</td>\n",
       "      <td>0</td>\n",
       "      <td>Reinforcement_Learning</td>\n",
       "    </tr>\n",
       "    <tr>\n",
       "      <td>4</td>\n",
       "      <td>37879</td>\n",
       "      <td>0</td>\n",
       "      <td>0</td>\n",
       "      <td>0</td>\n",
       "      <td>0</td>\n",
       "      <td>0</td>\n",
       "      <td>0</td>\n",
       "      <td>0</td>\n",
       "      <td>0</td>\n",
       "      <td>0</td>\n",
       "      <td>...</td>\n",
       "      <td>0</td>\n",
       "      <td>0</td>\n",
       "      <td>0</td>\n",
       "      <td>0</td>\n",
       "      <td>0</td>\n",
       "      <td>0</td>\n",
       "      <td>0</td>\n",
       "      <td>0</td>\n",
       "      <td>0</td>\n",
       "      <td>Probabilistic_Methods</td>\n",
       "    </tr>\n",
       "  </tbody>\n",
       "</table>\n",
       "<p>5 rows × 1435 columns</p>\n",
       "</div>"
      ],
      "text/plain": [
       "   paper_id  1  2  3  4  5  6  7  8  9  ...  1425  1426  1427  1428  1429  \\\n",
       "0     31336  0  0  0  0  0  0  0  0  0  ...     0     0     1     0     0   \n",
       "1   1061127  0  0  0  0  0  0  0  0  0  ...     0     1     0     0     0   \n",
       "2   1106406  0  0  0  0  0  0  0  0  0  ...     0     0     0     0     0   \n",
       "3     13195  0  0  0  0  0  0  0  0  0  ...     0     0     0     0     0   \n",
       "4     37879  0  0  0  0  0  0  0  0  0  ...     0     0     0     0     0   \n",
       "\n",
       "   1430  1431  1432  1433             class_label  \n",
       "0     0     0     0     0         Neural_Networks  \n",
       "1     0     0     0     0           Rule_Learning  \n",
       "2     0     0     0     0  Reinforcement_Learning  \n",
       "3     0     0     0     0  Reinforcement_Learning  \n",
       "4     0     0     0     0   Probabilistic_Methods  \n",
       "\n",
       "[5 rows x 1435 columns]"
      ]
     },
     "execution_count": 2,
     "metadata": {},
     "output_type": "execute_result"
    }
   ],
   "source": [
    "#Load and change name\n",
    "pd_content = pd.read_csv('data/cora/cora.csv', delimiter='\\t', header=None)\n",
    "pd_content.rename(columns={0: 'paper_id', 1434: 'class_label'}, inplace=True)\n",
    "pd_content.head()\n"
   ]
  },
  {
   "cell_type": "markdown",
   "metadata": {},
   "source": [
    "Print out the number of papers contained in each of the reasearch fields.\n",
    "\n",
    "**Hint:** You can use the `value_counts()` function."
   ]
  },
  {
   "cell_type": "code",
   "execution_count": 3,
   "metadata": {},
   "outputs": [
    {
     "data": {
      "text/plain": [
       "Neural_Networks           818\n",
       "Probabilistic_Methods     426\n",
       "Genetic_Algorithms        418\n",
       "Theory                    351\n",
       "Case_Based                298\n",
       "Reinforcement_Learning    217\n",
       "Rule_Learning             180\n",
       "Name: class_label, dtype: int64"
      ]
     },
     "execution_count": 3,
     "metadata": {},
     "output_type": "execute_result"
    }
   ],
   "source": [
    "#Field paper count\n",
    "pd_content['class_label'].value_counts()"
   ]
  },
  {
   "cell_type": "markdown",
   "metadata": {},
   "source": [
    "Select all papers from a field of your choice and store their feature vectors into a NumPy array.\n",
    "Check its shape."
   ]
  },
  {
   "cell_type": "code",
   "execution_count": 4,
   "metadata": {},
   "outputs": [
    {
     "data": {
      "text/plain": [
       "(426, 1433)"
      ]
     },
     "execution_count": 4,
     "metadata": {},
     "output_type": "execute_result"
    }
   ],
   "source": [
    "#Select the genetic algorithms and drop the class_label once it's filtered\n",
    "my_field = 'Probabilistic_Methods'\n",
    "features = pd_content[pd_content['class_label'] == my_field].drop('class_label', axis=1)\n",
    "\n",
    "#Keep paper ids to select futur citation graph in next steps\n",
    "paper_ids = features['paper_id']\n",
    "N = features.shape[0]\n",
    "features.drop('paper_id', axis=1, inplace=True)\n",
    "\n",
    "features.shape"
   ]
  },
  {
   "cell_type": "markdown",
   "metadata": {},
   "source": [
    "Let $D$ be the Euclidean distance matrix whose $(i,j)$ entry corresponds to the Euclidean distance between feature vectors $i$ and $j$.\n",
    "Using the feature vectors of the papers from the field which you have selected, construct $D$ as a Numpy array. "
   ]
  },
  {
   "cell_type": "code",
   "execution_count": 5,
   "metadata": {},
   "outputs": [],
   "source": [
    "#Calculate the euclidean distance between each pair features\n",
    "feat = features.values\n",
    "distance = np.zeros((N, N))\n",
    "for i in range(N):\n",
    "    for j in range(N):\n",
    "        distance[i, j] = np.sqrt(np.sum(np.square(feat[i,:] - feat[j, :])))"
   ]
  },
  {
   "cell_type": "markdown",
   "metadata": {},
   "source": [
    "Check the mean pairwise distance $\\mathbb{E}[D]$."
   ]
  },
  {
   "cell_type": "code",
   "execution_count": 6,
   "metadata": {},
   "outputs": [
    {
     "data": {
      "text/plain": [
       "5.790575729028696"
      ]
     },
     "execution_count": 6,
     "metadata": {},
     "output_type": "execute_result"
    }
   ],
   "source": [
    "mean_distance = distance.mean()\n",
    "mean_distance"
   ]
  },
  {
   "cell_type": "markdown",
   "metadata": {},
   "source": [
    "Plot an histogram of the euclidean distances."
   ]
  },
  {
   "cell_type": "code",
   "execution_count": 7,
   "metadata": {},
   "outputs": [
    {
     "data": {
      "image/png": "[encoded data removed]",
      "text/plain": [
       "<Figure size 576x288 with 1 Axes>"
      ]
     },
     "metadata": {
      "needs_background": "light"
     },
     "output_type": "display_data"
    }
   ],
   "source": [
    "plt.figure(1, figsize=(8, 4))\n",
    "plt.title(\"Histogram of Euclidean distances between papers\")\n",
    "plt.hist(distance.flatten());"
   ]
  },
  {
   "cell_type": "markdown",
   "metadata": {},
   "source": [
    "Now create an adjacency matrix for the papers by thresholding the Euclidean distance matrix.\n",
    "The resulting (unweighted) adjacency matrix should have entries\n",
    "$$ A_{ij} = \\begin{cases} 1, \\; \\text{if} \\; d(i,j)< \\mathbb{E}[D], \\; i \\neq j, \\\\ 0, \\; \\text{otherwise.} \\end{cases} $$\n",
    "\n",
    "First, let us choose the mean distance as the threshold."
   ]
  },
  {
   "cell_type": "code",
   "execution_count": 8,
   "metadata": {},
   "outputs": [
    {
     "data": {
      "text/plain": [
       "(426, 426)"
      ]
     },
     "execution_count": 8,
     "metadata": {},
     "output_type": "execute_result"
    }
   ],
   "source": [
    "#Algorithm to create the edges\n",
    "threshold = mean_distance\n",
    "A_feature = distance.copy()\n",
    "A_feature[A_feature < threshold] = 1\n",
    "A_feature[A_feature >= threshold] = 0\n",
    "A_feature -= np.identity(A_feature.shape[0])\n",
    "A_feature.shape"
   ]
  },
  {
   "cell_type": "markdown",
   "metadata": {},
   "source": [
    "#### Citation adjacency matrix"
   ]
  },
  {
   "cell_type": "markdown",
   "metadata": {},
   "source": [
    "Now read the `cora.cites` file and construct the citation graph by converting the given citation connections into an adjacency matrix."
   ]
  },
  {
   "cell_type": "code",
   "execution_count": 9,
   "metadata": {},
   "outputs": [],
   "source": [
    "#Make the idx paper_id map\n",
    "idx_map = paper_ids.reset_index(drop=True)\n",
    "idx_map = pd.Series(idx_map.index, index=idx_map.values)"
   ]
  },
  {
   "cell_type": "code",
   "execution_count": 10,
   "metadata": {},
   "outputs": [],
   "source": [
    "cora_cites = np.genfromtxt('data/cora/cora.cites', delimiter='\\t')"
   ]
  },
  {
   "cell_type": "code",
   "execution_count": 11,
   "metadata": {},
   "outputs": [
    {
     "data": {
      "text/html": [
       "<div>\n",
       "<style scoped>\n",
       "    .dataframe tbody tr th:only-of-type {\n",
       "        vertical-align: middle;\n",
       "    }\n",
       "\n",
       "    .dataframe tbody tr th {\n",
       "        vertical-align: top;\n",
       "    }\n",
       "\n",
       "    .dataframe thead th {\n",
       "        text-align: right;\n",
       "    }\n",
       "</style>\n",
       "<table border=\"1\" class=\"dataframe\">\n",
       "  <thead>\n",
       "    <tr style=\"text-align: right;\">\n",
       "      <th></th>\n",
       "      <th>cited</th>\n",
       "      <th>citing</th>\n",
       "    </tr>\n",
       "  </thead>\n",
       "  <tbody>\n",
       "    <tr>\n",
       "      <td>0</td>\n",
       "      <td>35</td>\n",
       "      <td>1033</td>\n",
       "    </tr>\n",
       "    <tr>\n",
       "      <td>1</td>\n",
       "      <td>35</td>\n",
       "      <td>103482</td>\n",
       "    </tr>\n",
       "    <tr>\n",
       "      <td>2</td>\n",
       "      <td>35</td>\n",
       "      <td>103515</td>\n",
       "    </tr>\n",
       "    <tr>\n",
       "      <td>3</td>\n",
       "      <td>35</td>\n",
       "      <td>1050679</td>\n",
       "    </tr>\n",
       "    <tr>\n",
       "      <td>4</td>\n",
       "      <td>35</td>\n",
       "      <td>1103960</td>\n",
       "    </tr>\n",
       "  </tbody>\n",
       "</table>\n",
       "</div>"
      ],
      "text/plain": [
       "   cited   citing\n",
       "0     35     1033\n",
       "1     35   103482\n",
       "2     35   103515\n",
       "3     35  1050679\n",
       "4     35  1103960"
      ]
     },
     "execution_count": 11,
     "metadata": {},
     "output_type": "execute_result"
    }
   ],
   "source": [
    "cora_df = pd.DataFrame(cora_cites, columns=['cited', 'citing'])\n",
    "cora_df = cora_df.astype('int')\n",
    "cora_df.head()"
   ]
  },
  {
   "cell_type": "code",
   "execution_count": 12,
   "metadata": {},
   "outputs": [],
   "source": [
    "#Make the adjacency matrix for citation\n",
    "A_citation = np.zeros((N, N), dtype=int)\n",
    "A_citation.shape\n",
    "\n",
    "for idx, row in cora_df.iterrows():\n",
    "    i, j = int(row.cited), int(row.citing)\n",
    "    if (i in idx_map.index) and (j in idx_map.index):\n",
    "        A_citation[idx_map[i], idx_map[j]] = 1  # weight\n",
    "        A_citation[idx_map[j], idx_map[i]] = 1  # weight to obtain an undirected network"
   ]
  },
  {
   "cell_type": "markdown",
   "metadata": {},
   "source": [
    "Get the adjacency matrix of the citation graph for the field that you chose.\n",
    "You have to appropriately reduce the adjacency matrix of the citation graph.\n",
    "\n",
    "Check if your adjacency matrix is symmetric. Symmetrize your final adjacency matrix if it's not already symmetric."
   ]
  },
  {
   "cell_type": "code",
   "execution_count": 13,
   "metadata": {},
   "outputs": [],
   "source": [
    "assert not np.count_nonzero(A_citation - A_citation.transpose()),\\\n",
    "        \"The adjacency matrix is not symmetric\""
   ]
  },
  {
   "cell_type": "markdown",
   "metadata": {},
   "source": [
    "Check the shape of your adjacency matrix again."
   ]
  },
  {
   "cell_type": "code",
   "execution_count": 14,
   "metadata": {},
   "outputs": [
    {
     "data": {
      "text/plain": [
       "(426, 426)"
      ]
     },
     "execution_count": 14,
     "metadata": {},
     "output_type": "execute_result"
    }
   ],
   "source": [
    "A_citation.shape"
   ]
  },
  {
   "cell_type": "code",
   "execution_count": 15,
   "metadata": {},
   "outputs": [],
   "source": [
    "np.save('data/A_citation', A_citation)\n",
    "np.save('data/A_feature', A_feature)"
   ]
  },
  {
   "cell_type": "markdown",
   "metadata": {},
   "source": [
    "### Question 2: Degree Distribution and Moments"
   ]
  },
  {
   "cell_type": "markdown",
   "metadata": {},
   "source": [
    "What is the total number of edges in each graph?"
   ]
  },
  {
   "cell_type": "code",
   "execution_count": 16,
   "metadata": {},
   "outputs": [],
   "source": [
    "#Load consistent adjacency matrices\n",
    "A_citation = np.load('data/A_citation.npy')\n",
    "A_feature = np.load('data/A_feature.npy')"
   ]
  },
  {
   "cell_type": "code",
   "execution_count": 17,
   "metadata": {},
   "outputs": [
    {
     "data": {
      "text/plain": [
       "((426, 426), (426, 426))"
      ]
     },
     "execution_count": 17,
     "metadata": {},
     "output_type": "execute_result"
    }
   ],
   "source": [
    "#Check the shape of both graph adjacency matrices\n",
    "A_citation.shape, A_feature.shape"
   ]
  },
  {
   "cell_type": "code",
   "execution_count": 18,
   "metadata": {},
   "outputs": [
    {
     "name": "stdout",
     "output_type": "stream",
     "text": [
      "Number of edges in the feature graph: 34695\n",
      "Number of edges in the citation graph: 660\n"
     ]
    }
   ],
   "source": [
    "#Number of edges for each graph\n",
    "num_edges_feature = int(np.sum(A_feature)/2)\n",
    "num_edges_citation = int(np.sum(A_citation)/2)\n",
    "\n",
    "print(f\"Number of edges in the feature graph: {num_edges_feature}\")\n",
    "print(f\"Number of edges in the citation graph: {num_edges_citation}\")"
   ]
  },
  {
   "cell_type": "markdown",
   "metadata": {},
   "source": [
    "Plot the degree distribution histogram for each of the graphs."
   ]
  },
  {
   "cell_type": "code",
   "execution_count": 19,
   "metadata": {},
   "outputs": [],
   "source": [
    "def get_degree_sequence(A_matrix):\n",
    "    return pd.DataFrame(A_matrix).sum()"
   ]
  },
  {
   "cell_type": "code",
   "execution_count": 20,
   "metadata": {},
   "outputs": [],
   "source": [
    "degrees_citation = get_degree_sequence(A_citation)\n",
    "degrees_feature = get_degree_sequence(A_feature)\n",
    "\n",
    "deg_hist_normalization = np.ones(degrees_citation.shape[0]) / degrees_citation.shape[0]"
   ]
  },
  {
   "cell_type": "code",
   "execution_count": 21,
   "metadata": {},
   "outputs": [
    {
     "data": {
      "image/png": "[encoded data removed]",
      "text/plain": [
       "<Figure size 1152x288 with 2 Axes>"
      ]
     },
     "metadata": {
      "needs_background": "light"
     },
     "output_type": "display_data"
    }
   ],
   "source": [
    "fig, axes = plt.subplots(1, 2, figsize=(16, 4))\n",
    "axes[0].set_title('Citation graph degree distribution')\n",
    "axes[0].hist(degrees_citation, weights=deg_hist_normalization);\n",
    "axes[1].set_title('Feature graph degree distribution')\n",
    "axes[1].hist(degrees_feature, weights=deg_hist_normalization);"
   ]
  },
  {
   "cell_type": "markdown",
   "metadata": {},
   "source": [
    "Calculate the first and second moments of the degree distribution of each graph."
   ]
  },
  {
   "cell_type": "code",
   "execution_count": 22,
   "metadata": {},
   "outputs": [],
   "source": [
    "def compute_moment(degree_series, order=1):\n",
    "    c_count = degree_series.value_counts() / len(degree_series)\n",
    "    if order == 1:\n",
    "        return np.sum(c_count.index * c_count.values)\n",
    "    if order == 2:\n",
    "        return np.sum(c_count.index**2 * c_count.values)\n",
    "    else:\n",
    "        print(\"this order is not implemented\")"
   ]
  },
  {
   "cell_type": "code",
   "execution_count": 23,
   "metadata": {},
   "outputs": [
    {
     "name": "stdout",
     "output_type": "stream",
     "text": [
      "1st moment of citation graph: 3.0985915492957745\n",
      "2nd moment of citation graph: 16.605633802816904\n",
      "1st moment of feature graph: 162.88732394366198\n",
      "2nd moment of feature graph: 40686.17840375587\n"
     ]
    }
   ],
   "source": [
    "#Strictly speaking, the moment is given by the following\n",
    "cit_moment_1 = compute_moment(degrees_citation, 1)\n",
    "cit_moment_2 = compute_moment(degrees_citation, 2)\n",
    "\n",
    "feat_moment_1 = compute_moment(degrees_feature, 1)\n",
    "feat_moment_2 = compute_moment(degrees_feature, 2)\n",
    "\n",
    "print(f\"1st moment of citation graph: {cit_moment_1}\")\n",
    "print(f\"2nd moment of citation graph: {cit_moment_2}\")\n",
    "print(f\"1st moment of feature graph: {feat_moment_1}\")\n",
    "print(f\"2nd moment of feature graph: {feat_moment_2}\")"
   ]
  },
  {
   "cell_type": "code",
   "execution_count": 24,
   "metadata": {},
   "outputs": [
    {
     "name": "stdout",
     "output_type": "stream",
     "text": [
      "1st moment of citation graph: 3.0985915492957745\n",
      "2nd moment of citation graph: 7.004364213449712\n",
      "1st moment of feature graph: 162.88732394366198\n",
      "2nd moment of feature graph: 14153.898102228397\n"
     ]
    }
   ],
   "source": [
    "#But in common sense (and as suggested by assitant) we could use mean (exact 1 order moment)\n",
    "#and variance (2 order moment corrected by the mean)\n",
    "cit_mean = np.mean(degrees_citation)\n",
    "cit_var = np.var(degrees_citation)\n",
    "\n",
    "feat_mean = np.mean(degrees_feature)\n",
    "feat_var = np.var(degrees_feature)\n",
    "\n",
    "print(f\"1st moment of citation graph: {cit_mean}\")\n",
    "print(f\"2nd moment of citation graph: {cit_var}\")\n",
    "print(f\"1st moment of feature graph: {feat_mean}\")\n",
    "print(f\"2nd moment of feature graph: {feat_var}\")"
   ]
  },
  {
   "cell_type": "markdown",
   "metadata": {},
   "source": [
    "What information do the moments provide you about the graphs?\n",
    "Explain the differences in moments between graphs by comparing their degree distributions."
   ]
  },
  {
   "cell_type": "markdown",
   "metadata": {},
   "source": [
    "**Your answer here:**\n",
    "\n",
    ">1. The first moment is equivalent to **the mean**.\n",
    ">2. The second moment: it gives an information on the propency of the graph to have node far from the mean._\n",
    "\n",
    "_Difference between graph1 and graph2 moments:_\n",
    "> - Most of mass in graph1 is concentrated close to 0. In graph2 even if most of mass seems to be concentrated around  100, there is a large pick at 400+ degree. This shifts the graph2 to mean to the right.\n",
    "> - In graph1 the degree distribution is sharp and we don't see degree farther than a distance > 20 from the mean. In graph2, the degree is spread and we see many degree much larger than the mean (162).\n",
    "\n",
    "_Note :_ it is known that scale-free networks have 2nd and greater moments which diverge. This is observable above"
   ]
  },
  {
   "cell_type": "markdown",
   "metadata": {},
   "source": [
    "Select the 20 largest hubs for each of the graphs and remove them. Observe the sparsity pattern of the adjacency matrices of the citation and feature graphs before and after such a reduction."
   ]
  },
  {
   "cell_type": "code",
   "execution_count": 25,
   "metadata": {},
   "outputs": [],
   "source": [
    "#Select index of the 20 largest nodes\n",
    "paper_citation_degree = pd.DataFrame(A_citation).sum()\n",
    "citation_hubs = paper_citation_degree.sort_values(ascending=False).head(20).index\n",
    "citation_no_hubs = paper_citation_degree.sort_values(ascending=False).index.difference(citation_hubs)\n",
    "paper_feature_degree = pd.DataFrame(A_feature).sum()\n",
    "feature_hubs = paper_feature_degree.sort_values(ascending=False).head(20).index\n",
    "feature_no_hubs = paper_feature_degree.sort_values(ascending=False).index.difference(feature_hubs)"
   ]
  },
  {
   "cell_type": "code",
   "execution_count": 26,
   "metadata": {},
   "outputs": [],
   "source": [
    "#There was two possibilities here: either put all hubs values to 0 or remove the columns and lines directly.\n",
    "#We made the assumtion that we were asked to remove the column. Otherwise, only by using ~ operator and\n",
    "#the \"at\" function, we could set everything to 0.\n",
    "\n",
    "A_citation_copy = pd.DataFrame(A_citation).copy()\n",
    "A_citation_copy = A_citation_copy.loc[citation_no_hubs, citation_no_hubs]\n",
    "\n",
    "A_feature_copy = pd.DataFrame(A_feature).copy()\n",
    "A_feature_copy = A_feature_copy.loc[feature_no_hubs, feature_no_hubs] "
   ]
  },
  {
   "cell_type": "code",
   "execution_count": 28,
   "metadata": {},
   "outputs": [
    {
     "name": "stdout",
     "output_type": "stream",
     "text": [
      "(406, 406) (406, 406)\n"
     ]
    }
   ],
   "source": [
    "#Check the shape of both matrix: (426-20) x (426-20) = (406) x (406)\n",
    "print(A_citation_copy.shape, A_feature_copy.shape)"
   ]
  },
  {
   "cell_type": "code",
   "execution_count": 29,
   "metadata": {},
   "outputs": [
    {
     "data": {
      "image/png": "[encoded data removed]",
      "text/plain": [
       "<Figure size 1152x1152 with 4 Axes>"
      ]
     },
     "metadata": {
      "needs_background": "light"
     },
     "output_type": "display_data"
    }
   ],
   "source": [
    "reduced_A_feature = A_feature_copy\n",
    "reduced_A_citation = A_citation_copy\n",
    "\n",
    "fig, axes = plt.subplots(2, 2, figsize=(16, 16))\n",
    "axes[0, 0].set_title('Feature graph: adjacency matrix sparsity pattern')\n",
    "axes[0, 0].spy(A_feature);\n",
    "axes[0, 1].set_title('Feature graph without top 20 hubs: adjacency matrix sparsity pattern')\n",
    "axes[0, 1].spy(reduced_A_feature);\n",
    "axes[1, 0].set_title('Citation graph: adjacency matrix sparsity pattern')\n",
    "axes[1, 0].spy(A_citation);\n",
    "axes[1, 1].set_title('Citation graph without top 20 hubs: adjacency matrix sparsity pattern')\n",
    "axes[1, 1].spy(reduced_A_citation);"
   ]
  },
  {
   "cell_type": "markdown",
   "metadata": {},
   "source": [
    "Plot the new degree distribution histograms."
   ]
  },
  {
   "cell_type": "code",
   "execution_count": 30,
   "metadata": {},
   "outputs": [
    {
     "data": {
      "image/png": "[encoded data removed]",
      "text/plain": [
       "<Figure size 1152x288 with 2 Axes>"
      ]
     },
     "metadata": {
      "needs_background": "light"
     },
     "output_type": "display_data"
    }
   ],
   "source": [
    "reduced_degrees_feat = get_degree_sequence(reduced_A_feature)\n",
    "reduced_degrees_cit = get_degree_sequence(reduced_A_citation)\n",
    "\n",
    "deg_hist_normalization = np.ones(reduced_degrees_feat.shape[0])/reduced_degrees_feat.shape[0]\n",
    "\n",
    "\n",
    "fig, axes = plt.subplots(1, 2, figsize=(16, 4))\n",
    "axes[0].set_title('Citation graph degree distribution')\n",
    "axes[0].hist(reduced_degrees_cit, weights=deg_hist_normalization);\n",
    "axes[1].set_title('Feature graph degree distribution')\n",
    "axes[1].hist(reduced_degrees_feat, weights=deg_hist_normalization);"
   ]
  },
  {
   "cell_type": "markdown",
   "metadata": {},
   "source": [
    "Compute the first and second moments for the new graphs."
   ]
  },
  {
   "cell_type": "code",
   "execution_count": 31,
   "metadata": {},
   "outputs": [
    {
     "name": "stdout",
     "output_type": "stream",
     "text": [
      "Citation graph first moment: 2.1724137931034484\n",
      "Citation graph second moment: 7.527093596059114\n",
      "Feature graph first moment:  129.99014778325125\n",
      "Feature graph second moment:  28199.596059113297\n"
     ]
    }
   ],
   "source": [
    "#Strictly speaking, the moment is given by the following\n",
    "reduced_cit_moment_1 = compute_moment(reduced_degrees_cit, 1)\n",
    "reduced_cit_moment_2 = compute_moment(reduced_degrees_cit, 2)\n",
    "\n",
    "reduced_feat_moment_1 = compute_moment(reduced_degrees_feat, 1)\n",
    "reduced_feat_moment_2 = compute_moment(reduced_degrees_feat, 2)\n",
    "\n",
    "\n",
    "print(\"Citation graph first moment:\", reduced_cit_moment_1)\n",
    "print(\"Citation graph second moment:\", reduced_cit_moment_2)\n",
    "print(\"Feature graph first moment: \", reduced_feat_moment_1)\n",
    "print(\"Feature graph second moment: \", reduced_feat_moment_2)"
   ]
  },
  {
   "cell_type": "code",
   "execution_count": 32,
   "metadata": {},
   "outputs": [
    {
     "name": "stdout",
     "output_type": "stream",
     "text": [
      "1st moment of citation graph: 2.1724137931034484\n",
      "2nd moment of citation graph: 2.8077119075930015\n",
      "1st moment of feature graph: 129.99014778325125\n",
      "2nd moment of feature graph: 11302.157538401807\n"
     ]
    }
   ],
   "source": [
    "#But in common sense (and as suggested by assitant) we could use mean (exact 1 order moment)\n",
    "#and variance (2 order moment corrected by the mean)\n",
    "cit_mean = np.mean(reduced_degrees_cit)\n",
    "cit_var = np.var(reduced_degrees_cit)\n",
    "\n",
    "feat_mean = np.mean(reduced_degrees_feat)\n",
    "feat_var = np.var(reduced_degrees_feat)\n",
    "\n",
    "print(f\"1st moment of citation graph: {cit_mean}\")\n",
    "print(f\"2nd moment of citation graph: {cit_var}\")\n",
    "print(f\"1st moment of feature graph: {feat_mean}\")\n",
    "print(f\"2nd moment of feature graph: {feat_var}\")"
   ]
  },
  {
   "cell_type": "markdown",
   "metadata": {},
   "source": [
    "Print the number of edges in the reduced graphs."
   ]
  },
  {
   "cell_type": "code",
   "execution_count": 33,
   "metadata": {},
   "outputs": [
    {
     "name": "stdout",
     "output_type": "stream",
     "text": [
      "Number of edges in citation graph: 441.0\n",
      "Number of edges in feature graph: 26388.0\n"
     ]
    }
   ],
   "source": [
    "# L = 1/2 * sum(ki)\n",
    "L_citation = (1 / 2) * np.sum(reduced_A_citation.values)\n",
    "L_feature = (1 / 2) * np.sum(reduced_A_feature.values)\n",
    "\n",
    "print(\"Number of edges in citation graph: \" + str(L_citation))\n",
    "print(\"Number of edges in feature graph: \" + str(L_feature))"
   ]
  },
  {
   "cell_type": "markdown",
   "metadata": {},
   "source": [
    "Is the effect of removing the hubs the same for both networks? Look at the percentage changes for each moment. Which of the moments is affected the most and in which graph? Explain why.  \n",
    "\n",
    "**Hint:** Examine the degree distributions."
   ]
  },
  {
   "cell_type": "code",
   "execution_count": 34,
   "metadata": {},
   "outputs": [
    {
     "name": "stdout",
     "output_type": "stream",
     "text": [
      "1st order momentum in citation changed by: -29.89%\n",
      "2nd order momentum in citation changed by: -54.67%\n",
      "1st order momentum in feature changed by: -20.2%\n",
      "2nd order momentum in feature changed by: -30.69%\n"
     ]
    }
   ],
   "source": [
    "change_cit_moment_1 = reduced_cit_moment_1 / cit_moment_1\n",
    "change_cit_moment_2 = reduced_cit_moment_2 / cit_moment_2\n",
    "\n",
    "change_feat_moment_1 = reduced_feat_moment_1 / feat_moment_1\n",
    "change_feat_moment_2 = reduced_feat_moment_2 / feat_moment_2\n",
    "\n",
    "print(\"1st order momentum in citation changed by: \" + str(-round((1 - change_cit_moment_1)*100, 2)) + \"%\")\n",
    "print(\"2nd order momentum in citation changed by: \" + str(-round((1 - change_cit_moment_2)*100, 2)) + \"%\")\n",
    "\n",
    "print(\"1st order momentum in feature changed by: \" + str(-round((1 - change_feat_moment_1)*100, 2)) + \"%\")\n",
    "print(\"2nd order momentum in feature changed by: \" + str(-round((1 - change_feat_moment_2)*100, 2)) + \"%\")"
   ]
  },
  {
   "cell_type": "markdown",
   "metadata": {},
   "source": [
    "**Your answer here:**"
   ]
  },
  {
   "cell_type": "markdown",
   "metadata": {},
   "source": [
    "_The effect of removing the hubs is not the same in both graph._\n",
    "\n",
    ">1. According to the relative variation of the moments above, the removing affects more the second moment that the first. We reduce it and make the graph less \"scale-free\".\n",
    ">2. In the degree distribution, hubs removing shrinks the degree distribution of the **citation graph** but does not change the **feature graph** a lot (it only decrease the size of the last pick).\n",
    "\n",
    "_This suggests once again a different structure of both graphs._\n",
    "\n"
   ]
  },
  {
   "cell_type": "markdown",
   "metadata": {},
   "source": [
    "### Question 3: Pruning, sparsity, paths"
   ]
  },
  {
   "cell_type": "markdown",
   "metadata": {},
   "source": [
    "By adjusting the threshold of the euclidean distance matrix, prune the feature graph so that its number of edges is roughly close (within a hundred edges) to the number of edges in the citation graph."
   ]
  },
  {
   "cell_type": "code",
   "execution_count": 35,
   "metadata": {},
   "outputs": [
    {
     "name": "stdout",
     "output_type": "stream",
     "text": [
      "Number of edges in the feature graph: 34695\n",
      "Number of edges in the feature graph after pruning: 720.0\n",
      "Number of edges in the citation graph: 660\n"
     ]
    }
   ],
   "source": [
    "#Adjusting the graph edges\n",
    "threshold = mean_distance - 2.7 #After many trials, it was not possible to go closer than a difference of 117 edges\n",
    "A_feature_pruned = distance.copy()\n",
    "A_feature_pruned[A_feature_pruned < threshold] = 1\n",
    "A_feature_pruned[A_feature_pruned >= threshold] = 0\n",
    "A_feature_pruned -= np.identity(A_feature_pruned.shape[0])\n",
    "num_edges_feature_pruned = np.sum(A_feature_pruned.flatten()) / 2\n",
    "\n",
    "print(f\"Number of edges in the feature graph: {num_edges_feature}\")\n",
    "print(f\"Number of edges in the feature graph after pruning: {num_edges_feature_pruned}\")\n",
    "print(f\"Number of edges in the citation graph: {num_edges_citation}\")"
   ]
  },
  {
   "cell_type": "markdown",
   "metadata": {},
   "source": [
    "Check your results by comparing the sparsity patterns and total number of edges between the graphs."
   ]
  },
  {
   "cell_type": "code",
   "execution_count": 36,
   "metadata": {},
   "outputs": [
    {
     "data": {
      "image/png": "[encoded data removed]",
      "text/plain": [
       "<Figure size 864x432 with 2 Axes>"
      ]
     },
     "metadata": {
      "needs_background": "light"
     },
     "output_type": "display_data"
    }
   ],
   "source": [
    "fig, axes = plt.subplots(1, 2, figsize=(12, 6))\n",
    "axes[0].set_title('Citation graph sparsity')\n",
    "axes[0].spy(A_citation);\n",
    "axes[1].set_title('Feature graph sparsity')\n",
    "axes[1].spy(A_feature_pruned);"
   ]
  },
  {
   "cell_type": "markdown",
   "metadata": {},
   "source": [
    "Let $C_{k}(i,j)$ denote the number of paths of length $k$ from node $i$ to node $j$. \n",
    "\n",
    "We define the path matrix $P$, with entries\n",
    "$ P_{ij} = \\displaystyle\\sum_{k=0}^{N}C_{k}(i,j). $"
   ]
  },
  {
   "cell_type": "markdown",
   "metadata": {},
   "source": [
    "Calculate the path matrices for both the citation and the unpruned feature graphs for $N =10$.  \n",
    "\n",
    "**Hint:** Use [powers of the adjacency matrix](https://en.wikipedia.org/wiki/Adjacency_matrix#Matrix_powers)."
   ]
  },
  {
   "cell_type": "code",
   "execution_count": 37,
   "metadata": {},
   "outputs": [],
   "source": [
    "#Helper functions to calculate the path matrix\n",
    "def compute_matrix_power(matrix, n):\n",
    "    '''The resulting matrix gives at position (i,j) the number of shortest path of length n from i to j'''\n",
    "    return matrix_power(matrix, n+1)\n",
    "\n",
    "def compute_path_matrix(matrix, largest_path_length):\n",
    "    return sum([compute_matrix_power(matrix, i) for i in range(largest_path_length)])\n"
   ]
  },
  {
   "cell_type": "code",
   "execution_count": 38,
   "metadata": {},
   "outputs": [],
   "source": [
    "path_matrix_citation = compute_path_matrix(A_citation, 10)\n",
    "path_matrix_feature = compute_path_matrix(A_feature, 10)"
   ]
  },
  {
   "cell_type": "markdown",
   "metadata": {},
   "source": [
    "Check the sparsity pattern for both of path matrices."
   ]
  },
  {
   "cell_type": "code",
   "execution_count": 39,
   "metadata": {},
   "outputs": [
    {
     "data": {
      "image/png": "[encoded data removed]",
      "text/plain": [
       "<Figure size 1152x648 with 2 Axes>"
      ]
     },
     "metadata": {
      "needs_background": "light"
     },
     "output_type": "display_data"
    }
   ],
   "source": [
    "fig, axes = plt.subplots(1, 2, figsize=(16, 9))\n",
    "axes[0].set_title('Citation Path matrix sparsity')\n",
    "axes[0].spy(path_matrix_citation);\n",
    "axes[1].set_title('Feature Path matrix sparsity')\n",
    "axes[1].spy(path_matrix_feature, vmin=0, vmax=1);"
   ]
  },
  {
   "cell_type": "markdown",
   "metadata": {},
   "source": [
    "Now calculate the path matrix of the pruned feature graph for $N=10$. Plot the corresponding sparsity pattern. Is there any difference?"
   ]
  },
  {
   "cell_type": "code",
   "execution_count": 40,
   "metadata": {},
   "outputs": [
    {
     "data": {
      "image/png": "[encoded data removed]",
      "text/plain": [
       "<Figure size 864x432 with 1 Axes>"
      ]
     },
     "metadata": {
      "needs_background": "light"
     },
     "output_type": "display_data"
    }
   ],
   "source": [
    "#Compute the path matrix for a feature graph with same number of edges as citation graph\n",
    "path_matrix_pruned = compute_path_matrix(A_feature_pruned, 10)\n",
    "\n",
    "plt.figure(figsize=(12, 6))\n",
    "plt.title('Feature Path matrix sparsity')\n",
    "plt.spy(path_matrix_pruned);"
   ]
  },
  {
   "cell_type": "markdown",
   "metadata": {},
   "source": [
    "**Your answer here:** \n",
    "\n",
    "_Yes, unpruned is connected. Whereas pruned graph is not connected_"
   ]
  },
  {
   "cell_type": "markdown",
   "metadata": {},
   "source": [
    "Describe how you can use the above process of counting paths to determine whether a graph is connected or not. Is the original (unpruned) feature graph connected?"
   ]
  },
  {
   "cell_type": "markdown",
   "metadata": {},
   "source": [
    "**Your answer here:**\n",
    "\n",
    "_A graph is connected if it exists at least one path to go to any node. Visually, a graph is connected if there is no blank line/column (except the diagonal). So yes the unpruned is connected._"
   ]
  },
  {
   "cell_type": "markdown",
   "metadata": {},
   "source": [
    "If the graph is connected, how can you guess its diameter using the path matrix?"
   ]
  },
  {
   "cell_type": "markdown",
   "metadata": {},
   "source": [
    "**Your answer here:**  \n",
    "\n",
    "_The original diameter definition is the maximum shortest path from any two nodes._\n",
    "\n",
    "_The diameter could be also though as follows: assuming the graph is connected, what is the minimum path length at which any pair of node can be linked together._\n",
    "\n",
    "_With such definition, since the path matrix counts the number of shortest path from any pair of nodes, if $\\exists i,j > 0 \\space s.t \\space N_{ij}^{d} = 0$, it means that we have not yet reach $d_{max}$. So to calculate the maximum shortest path, find the $d$ where $N_{ij}^{d} > 0 \\space \\forall i,j$ and $d_{max} = d$._"
   ]
  },
  {
   "cell_type": "markdown",
   "metadata": {},
   "source": [
    "If any of your graphs is connected, calculate the diameter using that process."
   ]
  },
  {
   "cell_type": "markdown",
   "metadata": {},
   "source": [
    "_Feature graph is connected_"
   ]
  },
  {
   "cell_type": "code",
   "execution_count": 41,
   "metadata": {},
   "outputs": [
    {
     "data": {
      "text/plain": [
       "3"
      ]
     },
     "execution_count": 41,
     "metadata": {},
     "output_type": "execute_result"
    }
   ],
   "source": [
    "#First approximation of the diameter without using the path matrix,\n",
    "#since it's guessed to be a power law degree distribution:\n",
    "int(np.log(A_feature.shape[0]) / np.log(np.log(A_feature.shape[0])))"
   ]
  },
  {
   "cell_type": "code",
   "execution_count": 42,
   "metadata": {},
   "outputs": [],
   "source": [
    "#Helper function\n",
    "def compute_diameter(A_matrix, max_test=10):\n",
    "    '''Compute the diameter of a adjacency matrix'''\n",
    "    #Test that A_matrix is connected:\n",
    "    assert np.sum(A_matrix, axis=1).min() != 0, \"The graph is not connected\"\n",
    "    if A_matrix.min() != 0:\n",
    "        return 1\n",
    "    else:\n",
    "        for i in range(2, max_test+1):\n",
    "            if compute_path_matrix(A_matrix, i).min() != 0:\n",
    "                return i\n",
    "            else: continue\n",
    "        "
   ]
  },
  {
   "cell_type": "code",
   "execution_count": 43,
   "metadata": {},
   "outputs": [
    {
     "name": "stdout",
     "output_type": "stream",
     "text": [
      "The diameter is: 2\n"
     ]
    }
   ],
   "source": [
    "diameter = compute_diameter(A_feature)\n",
    "print(f\"The diameter is: {diameter}\")"
   ]
  },
  {
   "cell_type": "markdown",
   "metadata": {},
   "source": [
    "Check if your guess was correct using [NetworkX](https://networkx.github.io/documentation/stable/reference/algorithms/generated/networkx.algorithms.distance_measures.diameter.html).\n",
    "Note: usage of NetworkX is only allowed in this part of Section 1."
   ]
  },
  {
   "cell_type": "code",
   "execution_count": 44,
   "metadata": {},
   "outputs": [
    {
     "name": "stdout",
     "output_type": "stream",
     "text": [
      "Diameter according to networkx: 2\n"
     ]
    }
   ],
   "source": [
    "import networkx as nx\n",
    "feature_graph = nx.from_numpy_matrix(A_feature)\n",
    "print(f\"Diameter according to networkx: {nx.diameter(feature_graph)}\")"
   ]
  },
  {
   "cell_type": "markdown",
   "metadata": {},
   "source": [
    "## Section 2: Network Models"
   ]
  },
  {
   "cell_type": "markdown",
   "metadata": {},
   "source": [
    "In this section, you will analyze the feature and citation graphs you constructed in the previous section in terms of the network model types.\n",
    "For this purpose, you can use the NetworkX libary imported below."
   ]
  },
  {
   "cell_type": "code",
   "execution_count": 45,
   "metadata": {},
   "outputs": [],
   "source": [
    "import networkx as nx"
   ]
  },
  {
   "cell_type": "markdown",
   "metadata": {},
   "source": [
    "Let us create NetworkX graph objects from the adjacency matrices computed in the previous section."
   ]
  },
  {
   "cell_type": "code",
   "execution_count": 46,
   "metadata": {},
   "outputs": [
    {
     "name": "stdout",
     "output_type": "stream",
     "text": [
      "Number of nodes: 426, Number of edges: 660\n",
      "Number of self-loops: 0, Number of connected components: 48\n"
     ]
    }
   ],
   "source": [
    "G_citation = nx.from_numpy_matrix(A_citation)\n",
    "print('Number of nodes: {}, Number of edges: {}'. format(G_citation.number_of_nodes(), G_citation.number_of_edges()))\n",
    "print('Number of self-loops: {}, Number of connected components: {}'. format(G_citation.number_of_selfloops(), nx.number_connected_components(G_citation)))"
   ]
  },
  {
   "cell_type": "markdown",
   "metadata": {},
   "source": [
    "In the rest of this assignment, we will consider the pruned feature graph as the feature network."
   ]
  },
  {
   "cell_type": "code",
   "execution_count": 47,
   "metadata": {},
   "outputs": [
    {
     "name": "stdout",
     "output_type": "stream",
     "text": [
      "Number of nodes: 426, Number of edges: 720\n",
      "Number of self-loops: 0, Number of connected components: 365\n"
     ]
    }
   ],
   "source": [
    "G_feature = nx.from_numpy_matrix(A_feature_pruned)\n",
    "print('Number of nodes: {}, Number of edges: {}'. format(G_feature.number_of_nodes(), G_feature.number_of_edges()))\n",
    "print('Number of self-loops: {}, Number of connected components: {}'. format(G_feature.number_of_selfloops(), nx.number_connected_components(G_feature)))"
   ]
  },
  {
   "cell_type": "markdown",
   "metadata": {},
   "source": [
    "### Question 4: Simulation with Erdős–Rényi and Barabási–Albert models"
   ]
  },
  {
   "cell_type": "markdown",
   "metadata": {},
   "source": [
    "Create an Erdős–Rényi and a Barabási–Albert graph using NetworkX to simulate the citation graph and the feature graph you have. When choosing parameters for the networks, take into account the number of vertices and edges of the original networks."
   ]
  },
  {
   "cell_type": "markdown",
   "metadata": {},
   "source": [
    "The number of nodes should exactly match the number of nodes in the original citation and feature graphs."
   ]
  },
  {
   "cell_type": "code",
   "execution_count": 48,
   "metadata": {},
   "outputs": [
    {
     "data": {
      "text/plain": [
       "426"
      ]
     },
     "execution_count": 48,
     "metadata": {},
     "output_type": "execute_result"
    }
   ],
   "source": [
    "assert len(G_citation.nodes()) == len(G_feature.nodes())\n",
    "n = len(G_citation.nodes())\n",
    "n"
   ]
  },
  {
   "cell_type": "markdown",
   "metadata": {},
   "source": [
    "The number of match shall fit the average of the number of edges in the citation and the feature graph."
   ]
  },
  {
   "cell_type": "code",
   "execution_count": 49,
   "metadata": {},
   "outputs": [
    {
     "data": {
      "text/plain": [
       "690.0"
      ]
     },
     "execution_count": 49,
     "metadata": {},
     "output_type": "execute_result"
    }
   ],
   "source": [
    "m = np.round((G_citation.size() + G_feature.size()) / 2)\n",
    "m"
   ]
  },
  {
   "cell_type": "markdown",
   "metadata": {},
   "source": [
    "How do you determine the probability parameter for the Erdős–Rényi graph?"
   ]
  },
  {
   "cell_type": "markdown",
   "metadata": {},
   "source": [
    "**Your answer here:** \n",
    "\n",
    "Since the probability for a node to have $k$ edges is follow a binomial law, $$\\langle k\\rangle = p * (N-1)$$ $$\\iff p = \\dfrac{\\langle{k}\\rangle}{(N-1)}$$\n",
    "\n",
    "We know from the begining of the cours that : $\\langle k\\rangle = \\frac{2L}{N}$ $$\\implies p = \\frac{2L}{N(N-1)}$$"
   ]
  },
  {
   "cell_type": "code",
   "execution_count": 50,
   "metadata": {},
   "outputs": [
    {
     "name": "stdout",
     "output_type": "stream",
     "text": [
      "0.007622203811101905\n"
     ]
    }
   ],
   "source": [
    "p = 2 * m / (n*(n-1))\n",
    "assert(p <= 1), 'p must be smaller or equal to 1'\n",
    "print(p)\n",
    "G_er = nx.erdos_renyi_graph(n, p)"
   ]
  },
  {
   "cell_type": "markdown",
   "metadata": {},
   "source": [
    "Check the number of edges in the Erdős–Rényi graph."
   ]
  },
  {
   "cell_type": "code",
   "execution_count": 51,
   "metadata": {},
   "outputs": [
    {
     "name": "stdout",
     "output_type": "stream",
     "text": [
      "My Erdos-Rényi network that simulates the citation graph with: \n",
      "Number of nodes: 426, Number of edges: 718\n",
      "Number of self-loops: 0, Number of connected components: 13\n"
     ]
    }
   ],
   "source": [
    "print('My Erdos-Rényi network that simulates the citation graph with: ')\n",
    "print('Number of nodes: {}, Number of edges: {}'. format(G_er.number_of_nodes(), G_er.number_of_edges()))\n",
    "print('Number of self-loops: {}, Number of connected components: {}'. format(G_er.number_of_selfloops(), nx.number_connected_components(G_er)))"
   ]
  },
  {
   "cell_type": "markdown",
   "metadata": {},
   "source": [
    "How do you determine the preferential attachment parameter for Barabási–Albert graphs?"
   ]
  },
  {
   "cell_type": "markdown",
   "metadata": {},
   "source": [
    "**Your answer here:** The probability that the new node connects to the node i (preferential attachment) is given by $P_{i}(k_{i}) = \\frac{k_{i}}{\\sum k_{j}}$"
   ]
  },
  {
   "cell_type": "code",
   "execution_count": 52,
   "metadata": {},
   "outputs": [
    {
     "name": "stdout",
     "output_type": "stream",
     "text": [
      "2\n"
     ]
    }
   ],
   "source": [
    "#Assuming that during the network growing phase, at each timestep the new node connects to\n",
    "#the same number of nodes, q is given by the devision of the total number of edges and the total number of nodes\n",
    "\n",
    "#ATTENTION: since m/n = 1.61 and that q must be integer we have to round it. However, to fit the original graphs, we have to ceil it. Not floor.\n",
    "q = int(m/n) + 1\n",
    "G_ba = nx.barabasi_albert_graph(n, q)\n",
    "print(q)"
   ]
  },
  {
   "cell_type": "markdown",
   "metadata": {},
   "source": [
    "Check the number of edges in the Barabási–Albert graph."
   ]
  },
  {
   "cell_type": "code",
   "execution_count": 53,
   "metadata": {},
   "outputs": [
    {
     "name": "stdout",
     "output_type": "stream",
     "text": [
      "My Barabási-Albert network that simulates the citation graph has 848 edges.\n"
     ]
    }
   ],
   "source": [
    "print('My Barabási-Albert network that simulates the citation graph has {} edges.'.format(G_ba.size()))"
   ]
  },
  {
   "cell_type": "code",
   "execution_count": 54,
   "metadata": {},
   "outputs": [
    {
     "name": "stdout",
     "output_type": "stream",
     "text": [
      "Number of nodes: 426, Number of edges: 848\n",
      "Number of self-loops: 0, Number of connected components: 1\n"
     ]
    }
   ],
   "source": [
    "print('Number of nodes: {}, Number of edges: {}'. format(G_ba.number_of_nodes(), G_ba.number_of_edges()))\n",
    "print('Number of self-loops: {}, Number of connected components: {}'. format(G_ba.number_of_selfloops(), nx.number_connected_components(G_ba)))"
   ]
  },
  {
   "cell_type": "markdown",
   "metadata": {},
   "source": [
    "### Question 5: Giant Component"
   ]
  },
  {
   "cell_type": "markdown",
   "metadata": {},
   "source": [
    "Check the size of the largest connected component in the citation and feature graphs."
   ]
  },
  {
   "cell_type": "code",
   "execution_count": 55,
   "metadata": {},
   "outputs": [
    {
     "name": "stdout",
     "output_type": "stream",
     "text": [
      "The giant component of the citation graph has 333 nodes and 582 edges.\n"
     ]
    }
   ],
   "source": [
    "giant_citation = sorted(nx.connected_component_subgraphs(G_citation), key=len, reverse=True)[0]\n",
    "print('The giant component of the citation graph has {} nodes and {} edges.'.format(giant_citation.number_of_nodes(), giant_citation.size()))"
   ]
  },
  {
   "cell_type": "code",
   "execution_count": 56,
   "metadata": {},
   "outputs": [
    {
     "name": "stdout",
     "output_type": "stream",
     "text": [
      "The giant component of the feature graph has 59 nodes and 717 edges.\n"
     ]
    }
   ],
   "source": [
    "giant_feature = sorted(nx.connected_component_subgraphs(G_feature), key=len, reverse=True)[0]\n",
    "print('The giant component of the feature graph has {} nodes and {} edges.'.format(giant_feature.number_of_nodes(), giant_feature.size()))"
   ]
  },
  {
   "cell_type": "markdown",
   "metadata": {},
   "source": [
    "Check the size of the giant components in the generated Erdős–Rényi graph."
   ]
  },
  {
   "cell_type": "code",
   "execution_count": 57,
   "metadata": {},
   "outputs": [
    {
     "name": "stdout",
     "output_type": "stream",
     "text": [
      "The giant component of the Erdos-Rényi network has 414 nodes and 718 edges.\n"
     ]
    }
   ],
   "source": [
    "giant_er = max(nx.connected_component_subgraphs(G_er), key=len)\n",
    "print('The giant component of the Erdos-Rényi network has {} nodes and {} edges.'.format(giant_er.number_of_nodes(), giant_er.size()))"
   ]
  },
  {
   "cell_type": "markdown",
   "metadata": {},
   "source": [
    "Let us match the number of nodes in the giant component of the feature graph by simulating a new Erdős–Rényi network.\n",
    "How do you choose the probability parameter this time? \n",
    "\n",
    "**Hint:** Recall the expected giant component size from the lectures."
   ]
  },
  {
   "cell_type": "markdown",
   "metadata": {},
   "source": [
    "**Your answer here:** \n",
    "\n",
    "_We first need to compute the value of k to determine the regime we are in:_"
   ]
  },
  {
   "cell_type": "code",
   "execution_count": 58,
   "metadata": {},
   "outputs": [
    {
     "data": {
      "text/plain": [
       "3.380281690140845"
      ]
     },
     "execution_count": 58,
     "metadata": {},
     "output_type": "execute_result"
    }
   ],
   "source": [
    "2 * G_feature.number_of_edges() / G_feature.number_of_nodes()"
   ]
  },
  {
   "cell_type": "code",
   "execution_count": 59,
   "metadata": {},
   "outputs": [
    {
     "data": {
      "text/plain": [
       "0.41195058891123243"
      ]
     },
     "execution_count": 59,
     "metadata": {},
     "output_type": "execute_result"
    }
   ],
   "source": [
    "m_ = giant_feature.number_of_edges()\n",
    "n_ = giant_feature.number_of_nodes()\n",
    "p_new = 2 * m_ / n_**2\n",
    "G_er_new = nx.erdos_renyi_graph(n, p_new)\n",
    "p_new"
   ]
  },
  {
   "cell_type": "markdown",
   "metadata": {},
   "source": [
    "_According to the above result, we are right in the supercritical regime. Thus, the following 2 formula are supposed to hold:_\n",
    "\n",
    "\\begin{equation}\n",
    "p_{c} = \\frac{1}{N-1} \n",
    "\\end{equation}\n",
    "\n",
    "and \n",
    "\n",
    "\\begin{equation}\n",
    "N_{G} \\sim (p -p_{c})N\n",
    "\\end{equation}\n",
    "\n",
    "\\begin{equation}\n",
    "p = \\frac{N_{G}}{N}+\\frac{1}{N-1} \\approx \\frac{N_{G} + 1}{N}\n",
    "\\end{equation}\n",
    "\n",
    "(_c.f._ slide 20 and 30 presentation on random network or [here](http://networksciencebook.com/chapter/3#evolution-network))"
   ]
  },
  {
   "cell_type": "markdown",
   "metadata": {},
   "source": [
    "We now compute an Erdos Reny network following this probability, whose giant component size should be approximately equal to $N_{G}$"
   ]
  },
  {
   "cell_type": "code",
   "execution_count": 60,
   "metadata": {},
   "outputs": [
    {
     "name": "stdout",
     "output_type": "stream",
     "text": [
      "My new Erdos Renyi network that simulates the citation graph has 12720 edges.\n",
      "The giant component of the new Erdos-Rényi network has 426 nodes and 12720 edges.\n"
     ]
    }
   ],
   "source": [
    "p_new = giant_feature.number_of_nodes()/n + 1/(n-1) \n",
    "G_er_new = nx.erdos_renyi_graph(n, p_new)\n",
    "\n",
    "print('My new Erdos Renyi network that simulates the citation graph has {} edges.'.format(G_er_new.size()))\n",
    "giant_er_new = max(nx.connected_component_subgraphs(G_er_new), key=len)\n",
    "print('The giant component of the new Erdos-Rényi network has {} nodes and {} edges.'.format(giant_er_new.number_of_nodes(), giant_er_new.size()))"
   ]
  },
  {
   "cell_type": "markdown",
   "metadata": {},
   "source": [
    "We can see that the number of nodes in the giant component does not match our expectations. We cannot explain why, our hypothesis would be that the formula is only valid near $<k> = 1$. We would be delighted to have an answer to this question. Hence, we try the second formula:"
   ]
  },
  {
   "cell_type": "markdown",
   "metadata": {},
   "source": [
    "\\begin{equation}\n",
    "\\frac{N_{G}}{N} \\sim <k> -1 \n",
    "\\end{equation}\n",
    "    \n",
    "so\n",
    "\n",
    "\\begin{equation}\n",
    "p  \\sim \\frac{N_{G}+N}{N(N-1)}\n",
    "\\end{equation}\n",
    "    \n",
    "(_c.f._ slide 30 of the presentation)"
   ]
  },
  {
   "cell_type": "code",
   "execution_count": 61,
   "metadata": {},
   "outputs": [
    {
     "name": "stdout",
     "output_type": "stream",
     "text": [
      "My new Erdos Renyi network that simulates the citation graph has 226 edges.\n",
      "The giant component of the new Erdos-Rényi network has 34 nodes and 33 edges.\n"
     ]
    }
   ],
   "source": [
    "p_new = (giant_feature.number_of_nodes()+ n)/(n*(n-1)) #giant_feature.number_of_nodes() / n + 1/(n-1) #giant_feature.number_of_edges() / giant_feature.number_of_nodes()\n",
    "G_er_new = nx.erdos_renyi_graph(n, p_new)\n",
    "\n",
    "print('My new Erdos Renyi network that simulates the citation graph has {} edges.'.format(G_er_new.size()))\n",
    "giant_er_new = max(nx.connected_component_subgraphs(G_er_new), key=len)\n",
    "print('The giant component of the new Erdos-Rényi network has {} nodes and {} edges.'.format(giant_er_new.number_of_nodes(), giant_er_new.size()))"
   ]
  },
  {
   "cell_type": "markdown",
   "metadata": {},
   "source": [
    "_And it turns out to work to be more convenient as the size of the giant component matches the one of the feature graph._"
   ]
  },
  {
   "cell_type": "markdown",
   "metadata": {},
   "source": [
    "### Question 6: Degree Distributions"
   ]
  },
  {
   "cell_type": "markdown",
   "metadata": {},
   "source": [
    "Recall the degree distribution of the citation and the feature graph."
   ]
  },
  {
   "cell_type": "code",
   "execution_count": 62,
   "metadata": {},
   "outputs": [
    {
     "data": {
      "image/png": "[encoded data removed]",
      "text/plain": [
       "<Figure size 1080x432 with 2 Axes>"
      ]
     },
     "metadata": {
      "needs_background": "light"
     },
     "output_type": "display_data"
    }
   ],
   "source": [
    "fig, axes = plt.subplots(1, 2, figsize=(15, 6))\n",
    "axes[0].set_title('Citation graph')\n",
    "citation_degrees = get_degree_sequence(A_citation)\n",
    "axes[0].hist(citation_degrees);\n",
    "axes[1].set_title('Feature graph')\n",
    "feature_degrees = get_degree_sequence(A_feature_pruned)\n",
    "axes[1].hist(feature_degrees);"
   ]
  },
  {
   "cell_type": "markdown",
   "metadata": {},
   "source": [
    "What does the degree distribution tell us about a network? Can you make a prediction on the network model type of the citation and the feature graph by looking at their degree distributions?"
   ]
  },
  {
   "cell_type": "markdown",
   "metadata": {},
   "source": [
    "**Your answer here:** \n",
    "\n",
    ">1. Most of citations are around the mean and the variance is low. High number of word proximity relation is not rare  even if most of them are around 2. \n",
    ">2. A guess of the network model type would be a **poisson distribution for the citation graph** and a **power law for the feature graph**. The second guess is due to the relatively numerous degree far from the mean."
   ]
  },
  {
   "cell_type": "markdown",
   "metadata": {},
   "source": [
    "Now, plot the degree distribution historgrams for the simulated networks."
   ]
  },
  {
   "cell_type": "code",
   "execution_count": 63,
   "metadata": {},
   "outputs": [
    {
     "data": {
      "image/png": "[encoded data removed]",
      "text/plain": [
       "<Figure size 1440x432 with 3 Axes>"
      ]
     },
     "metadata": {
      "needs_background": "light"
     },
     "output_type": "display_data"
    }
   ],
   "source": [
    "fig, axes = plt.subplots(1, 3, figsize=(20, 6))\n",
    "axes[0].set_title('Erdos-Rényi network')\n",
    "er_degrees = list(dict(G_er.degree()).values())\n",
    "axes[0].hist(er_degrees, range=(0, 20));\n",
    "axes[1].set_title('Barabási-Albert network')\n",
    "ba_degrees= list(dict(G_ba.degree()).values())\n",
    "axes[1].hist(ba_degrees, range=(0, 50));\n",
    "axes[2].set_title('new Erdos-Rényi network')\n",
    "er_new_degrees= list(dict(G_er_new.degree()).values())\n",
    "axes[2].hist(er_new_degrees, range=(0, 50));"
   ]
  },
  {
   "cell_type": "markdown",
   "metadata": {},
   "source": [
    "In terms of the degree distribution, is there a good match between the citation and feature graphs and the simulated networks?\n",
    "For the citation graph, choose one of the simulated networks above that match its degree distribution best. Indicate your preference below."
   ]
  },
  {
   "cell_type": "markdown",
   "metadata": {},
   "source": [
    "**Your answer here:** \n",
    "\n",
    ">1. The citation graph fits well Erdos-Rényi model: this confirms our hypothesis of random network.\n",
    ">2. The feature graph fits well the Barabási-Albert model: this confirms our hypthesis of scale-free network.\n",
    ">3. The third generated graph does not fit any of our reall graph."
   ]
  },
  {
   "cell_type": "markdown",
   "metadata": {},
   "source": [
    "You can also simulate a network using the configuration model to match its degree disctribution exactly. Refer to [Configuration model](https://networkx.github.io/documentation/stable/reference/generated/networkx.generators.degree_seq.configuration_model.html#networkx.generators.degree_seq.configuration_model).\n",
    "\n",
    "Let us create another network to match the degree distribution of the feature graph. "
   ]
  },
  {
   "cell_type": "code",
   "execution_count": 64,
   "metadata": {},
   "outputs": [
    {
     "name": "stdout",
     "output_type": "stream",
     "text": [
      "Configuration model has 426 nodes and 720 edges.\n"
     ]
    }
   ],
   "source": [
    "G_config = nx.configuration_model(feature_degrees.astype(int).values) \n",
    "print('Configuration model has {} nodes and {} edges.'.format(G_config.number_of_nodes(), G_config.size()))"
   ]
  },
  {
   "cell_type": "markdown",
   "metadata": {},
   "source": [
    "Does it mean that we create the same graph with the feature graph by the configuration model? If not, how do you understand that they are not the same?"
   ]
  },
  {
   "cell_type": "markdown",
   "metadata": {},
   "source": [
    "**Your answer here:** \n",
    "\n",
    "_No, we don't create the same graph._\n",
    ">- The configuration model keeps that degree distribution _only_.\n",
    ">- The nodes could be switched from position at each graph generation"
   ]
  },
  {
   "cell_type": "markdown",
   "metadata": {},
   "source": [
    "### Question 7: Clustering Coefficient $<C>$"
   ]
  },
  {
   "cell_type": "markdown",
   "metadata": {},
   "source": [
    "Let us check the **average clustering coefficient** of the original citation and feature graphs. "
   ]
  },
  {
   "cell_type": "code",
   "execution_count": 65,
   "metadata": {},
   "outputs": [
    {
     "data": {
      "text/plain": [
       "0.2402694603120846"
      ]
     },
     "execution_count": 65,
     "metadata": {},
     "output_type": "execute_result"
    }
   ],
   "source": [
    "nx.average_clustering(G_citation)"
   ]
  },
  {
   "cell_type": "code",
   "execution_count": 66,
   "metadata": {},
   "outputs": [
    {
     "data": {
      "text/plain": [
       "0.10990779169766017"
      ]
     },
     "execution_count": 66,
     "metadata": {},
     "output_type": "execute_result"
    }
   ],
   "source": [
    "feature_c_coef = nx.average_clustering(G_feature)\n",
    "feature_c_coef"
   ]
  },
  {
   "cell_type": "markdown",
   "metadata": {},
   "source": [
    "What does the clustering coefficient tell us about a network? Comment on the values you obtain for the citation and feature graph."
   ]
  },
  {
   "cell_type": "markdown",
   "metadata": {},
   "source": [
    "**Your answer here:**\n",
    "\n",
    "> - The clustering coefficient tells us how connected in average is the network.\n",
    "> - Probability interpretation tells us that $<C>$ is the probablity that two neighbors of randomely selected node link to each other.\n",
    "\n",
    "_The values mean that both networks are poorly connected and that citation graph is more connected than feature graph._"
   ]
  },
  {
   "cell_type": "markdown",
   "metadata": {},
   "source": [
    "Now, let us check the average clustering coefficient for the simulated networks."
   ]
  },
  {
   "cell_type": "code",
   "execution_count": 67,
   "metadata": {},
   "outputs": [
    {
     "data": {
      "text/plain": [
       "0.007539682539682541"
      ]
     },
     "execution_count": 67,
     "metadata": {},
     "output_type": "execute_result"
    }
   ],
   "source": [
    "nx.average_clustering(G_er)"
   ]
  },
  {
   "cell_type": "code",
   "execution_count": 68,
   "metadata": {},
   "outputs": [
    {
     "data": {
      "text/plain": [
       "0.04862695430605923"
      ]
     },
     "execution_count": 68,
     "metadata": {},
     "output_type": "execute_result"
    }
   ],
   "source": [
    "nx.average_clustering(G_ba)"
   ]
  },
  {
   "cell_type": "markdown",
   "metadata": {},
   "source": [
    "Comment on the values you obtain for the simulated networks. Is there any good match to the citation or feature graph in terms of clustering coefficient?"
   ]
  },
  {
   "cell_type": "markdown",
   "metadata": {},
   "source": [
    "**Your answer here:**\n",
    "\n",
    "_The clustering coefficients are out of the scope. This means that eventhough we are able to approximate correctly degree distributions, with the simulation models, we are not able to simulate the clustering coefficient properly._"
   ]
  },
  {
   "cell_type": "markdown",
   "metadata": {},
   "source": [
    "Check the other [network model generators](https://networkx.github.io/documentation/networkx-1.10/reference/generators.html) provided by NetworkX. Which one do you predict to have a better match to the citation graph or the feature graph in terms of degree distribution and clustering coefficient at the same time? Justify your answer."
   ]
  },
  {
   "cell_type": "markdown",
   "metadata": {},
   "source": [
    "**Your answer here:**\n",
    "\n",
    "Since: \n",
    ">1. The feature graph seems to fit a power law degree distribution\n",
    ">2. We want to keep the clustering coefficient\n",
    "\n",
    "_It seems that powerlaw_cluster_graph is a good candidate_"
   ]
  },
  {
   "cell_type": "markdown",
   "metadata": {},
   "source": [
    "If you find a better fit, create a graph object below for that network model. Print the number of edges and the average clustering coefficient. Plot the histogram of the degree distribution."
   ]
  },
  {
   "cell_type": "code",
   "execution_count": 69,
   "metadata": {},
   "outputs": [
    {
     "name": "stdout",
     "output_type": "stream",
     "text": [
      "Power Law Model:\n",
      "Number of nodes: 426, Number of edges: 848\n",
      "Number of self-loops: 0, Number of connected components: 1\n",
      "Model clustering coefficient: 0.10391546430810039\n",
      "\n",
      "Feature Graph\n",
      "Number of nodes: 426, Number of edges: 720\n",
      "Number of self-loops: 0, Number of connected components: 365\n",
      "Feature graph clustering coefficient: 0.10990779169766017\n"
     ]
    },
    {
     "data": {
      "image/png": "[encoded data removed]",
      "text/plain": [
       "<Figure size 1440x432 with 2 Axes>"
      ]
     },
     "metadata": {
      "needs_background": "light"
     },
     "output_type": "display_data"
    }
   ],
   "source": [
    "#Power law clustering model\n",
    "p = 0.08\n",
    "_m_ = int(m/n + 1)\n",
    "G_powerlaw_cluster = nx.powerlaw_cluster_graph(n, _m_, p, seed=1)\n",
    "c_coef = nx.average_clustering(G_powerlaw_cluster)\n",
    "print(\"Power Law Model:\")\n",
    "print('Number of nodes: {}, Number of edges: {}'. format(G_powerlaw_cluster.number_of_nodes(), G_powerlaw_cluster.number_of_edges()))\n",
    "print('Number of self-loops: {}, Number of connected components: {}'. format(G_powerlaw_cluster.number_of_selfloops(), nx.number_connected_components(G_powerlaw_cluster)))\n",
    "print(\"Model clustering coefficient: \" + str(c_coef))\n",
    "\n",
    "#Feature graph\n",
    "print(\"\\nFeature Graph\")\n",
    "print('Number of nodes: {}, Number of edges: {}'. format(G_feature.number_of_nodes(), G_feature.number_of_edges()))\n",
    "print('Number of self-loops: {}, Number of connected components: {}'. format(G_feature.number_of_selfloops(), nx.number_connected_components(G_feature)))\n",
    "print(\"Feature graph clustering coefficient: \" + str(feature_c_coef))\n",
    "\n",
    "#Plot\n",
    "fig, axes = plt.subplots(1, 2, figsize=(20, 6))\n",
    "axes[0].set_title('Feature graph')\n",
    "feature_degrees = get_degree_sequence(A_feature_pruned)\n",
    "axes[0].hist(feature_degrees, bins=20);\n",
    "\n",
    "axes[1].set_title(\"powerlaw_cluster graph\")\n",
    "axes[1].hist(list(dict(G_powerlaw_cluster.degree).values()), bins=20);\n"
   ]
  },
  {
   "cell_type": "markdown",
   "metadata": {},
   "source": [
    "Comment on the similarities of your match."
   ]
  },
  {
   "cell_type": "markdown",
   "metadata": {},
   "source": [
    "**Your answer here:**"
   ]
  },
  {
   "cell_type": "markdown",
   "metadata": {},
   "source": [
    ">1. The degree distribution is similar.\n",
    ">2. Now, we are able to fit the clustering coefficient.\n",
    ">3. The number of edges are of the same order even if the model overestimates it.\n",
    ">4. The model does not fit the number of connected components _at all_.\n",
    "\n",
    "**Comments :**\n",
    "1. As expected, the model is able to fit the degree distribution distribution in addition to the clustering coefficient. \n",
    "2. The number of connected components is not respected we thus need **another model** to take this reality into account."
   ]
  }
 ],
 "metadata": {
  "kernelspec": {
   "display_name": "Python 3",
   "language": "python",
   "name": "python3"
  },
  "language_info": {
   "codemirror_mode": {
    "name": "ipython",
    "version": 3
   },
   "file_extension": ".py",
   "mimetype": "text/x-python",
   "name": "python",
   "nbconvert_exporter": "python",
   "pygments_lexer": "ipython3",
   "version": "3.7.3"
  }
 },
 "nbformat": 4,
 "nbformat_minor": 4
}
